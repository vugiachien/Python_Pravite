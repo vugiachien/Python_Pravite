{
  "nbformat": 4,
  "nbformat_minor": 0,
  "metadata": {
    "colab": {
      "provenance": []
    },
    "kernelspec": {
      "name": "python3",
      "display_name": "Python 3"
    },
    "language_info": {
      "name": "python"
    }
  },
  "cells": [
    {
      "cell_type": "markdown",
      "source": [
        "\n",
        "Câu 1:\n",
        "\n",
        "Python có thể làm :\n",
        "\n",
        "+) Phát triển về web có: Python thường được sử dụng để phát triển back-end của trang web hoặc ứng dụng—những phần mà người dùng không nhìn thấy\n",
        "\n",
        "+) Phân tích dữ liệu và học máy có: Cho phép các nhà phân tích dữ liệu và các chuyên gia khác sử dụng ngôn ngữ này để thực hiện các phép tính thống kê phức tạp, tạo trực quan hóa dữ liệu, xây dựng thuật toán học máy, thao tác và phân tích dữ liệu cũng như hoàn thành các nhiệm vụ khác liên quan đến dữ liệu.\n",
        "\n",
        "+) Tự động hoá và phát triển phần mềm:\n",
        "\n",
        "   Nếu bạn thấy mình thực hiện một nhiệm vụ lặp đi lặp lại, bạn có thể làm việc hiệu quả hơn bằng cách tự động hóa nó bằng Python. Quá trình viết code được sử dụng để xây dựng các quy trình tự động này được gọi là viết script.Tự động hóa có thể được sử dụng để kiểm tra lỗi trên nhiều tệp, chuyển đổi tệp, thực hiện phép toán đơn giản và loại bỏ các bản sao trong dữ liệu.\n",
        "\n",
        "   Trong phát triển phần mềm, Python có thể hỗ trợ các tác vụ như kiểm soát bản dựng, theo dõi lỗi và thử nghiệm. Với Python, các nhà phát triển phần mềm có thể tự động kiểm tra các sản phẩm hoặc tính năng mới. Một số công cụ Python được sử dụng để kiểm thử phần mềm bao gồm Green và Requestium.\n",
        "\n",
        "+) Phát triển game: Có pygame(Nhưng thường dùng để tạo game nhỏ)"
      ],
      "metadata": {
        "id": "KFCClwWKZ53h"
      }
    },
    {
      "cell_type": "markdown",
      "source": [
        "Câu 2:\n",
        "Giống nhau:\n",
        "\n",
        "+Đều là ngôn ngữ bậc cao\n",
        "\n",
        "+Đều có thể tạo nhiều ứng dụng khác nhau\n",
        "\n",
        "+Cộng đồng ohats triển lớn cung cấp tài nguyên phong phú\n",
        "\n",
        "Khác nhau:\n",
        "\n",
        "+Cú pháp phthon đơn giản hơn c++\n",
        "\n",
        "+Tính gõ: python là ngôn ngữ gõ động có nghĩa laf kiểu biến được xác định tại thời gian chạy. C++ là ngôn ngữ gĩ tĩnh có nghiax là kiểu biến được xác định tại thời gian biên dịch\n",
        "\n",
        "+Quản lý bộ nhớ:python sử dungj bộ thu gom rác để tự động quản lý bộ nhớ .C++ yêu cầu nhà phát triển quản lý bộ nhớ thủ công\n",
        "\n",
        "+Tốc độ: C++ thường nhanh hơn Phthon\n",
        "\n",
        "\n"
      ],
      "metadata": {
        "id": "wr4iVOuWpgh4"
      }
    },
    {
      "cell_type": "markdown",
      "source": [],
      "metadata": {
        "id": "V4ZHZDBiea1O"
      }
    },
    {
      "cell_type": "markdown",
      "source": [
        "Câu 3:\n",
        "\n",
        "Python là ngôn ngữ thông dịch. Điều này có nghĩa là nó dịch thành mã máy theo thời gian chạy. Trình thông dịch python dịch từng dòng mã máy và thực thi nó"
      ],
      "metadata": {
        "id": "AiV8H5pXtHGY"
      }
    },
    {
      "cell_type": "markdown",
      "source": [
        "\n",
        "\n",
        "\n",
        "Câu 5:\n",
        "\n",
        "1) Cách khai báo biến nói chung là khai báo thông qua cách gán giá trị hoặc không\n",
        "\n",
        "\n",
        "\n",
        "\n",
        "\n"
      ],
      "metadata": {
        "id": "qUzuurydvK1i"
      }
    },
    {
      "cell_type": "code",
      "source": [
        "\n",
        "a = 12\n",
        "\n",
        "b = None\n",
        "print(a, b)"
      ],
      "metadata": {
        "id": "ImL1_64xQkZ5"
      },
      "execution_count": null,
      "outputs": []
    },
    {
      "cell_type": "markdown",
      "source": [
        "2) Các toán tử trong python:\n",
        "\n",
        "Toán tử số học: +, - , , :, *(phép lũy thừa), %(chia dư), //(Chia lấy nguyên)\n",
        "\n",
        "Toán tử gán: +=, -=, *=, /=\n",
        "\n",
        "Toán từ so sánh: >, <, >=, <=, ==, !=\n",
        "\n",
        "Toán tử logic: and, or , not\n",
        "\n",
        "Toán tử chuỗi: +(cộng chuỗi), *(nhân chuỗi lên)"
      ],
      "metadata": {
        "id": "-yJRIeOYQsPC"
      }
    },
    {
      "cell_type": "code",
      "source": [
        "\n",
        "print(5 + 6)\n",
        "a, b = 5, 6\n",
        "a += b\n",
        "print(a)\n",
        "print(a > b)\n",
        "if(a > 0 and b > 0): print(\"YES\")\n",
        "x, y = \"Chơi \", \"Lq không anh\"\n",
        "print(x + y)"
      ],
      "metadata": {
        "id": "KV7jk9NZQ5Bk"
      },
      "execution_count": null,
      "outputs": []
    },
    {
      "cell_type": "markdown",
      "source": [
        "3) Các kiểu dữ liệu trong python:\n",
        "o Interger: Số nguyên – giống trong C++ - chỉ khác là lưu được số lớn, rất lớn\n",
        "\n",
        "o Float: Số thực – giống trong C++\n",
        "\n",
        "o String: chuỗi – giống trong C++\n",
        "\n",
        "o Boolean: Đúng hoặc sai\n",
        "\n",
        "o List: danh sách, có thể chứa nhiều kiểu dữ liệu. Có nhiều hàm như:\n",
        "\n",
        " Hàm thêm: • Append: thêm vào cuối phần tử. ĐPT: O(1) • Insert: thêm vào vị trí mình muốn. ĐPT: O(n) • Extend: thêm nhiều phần tử vào cuối một lúc\n",
        "\n",
        " Hàm xóa: • .pop(): xóa theo vị trí hoặc xóa vị trí cuối • Del a[i]: xóa theo vị trí mà không trả về • .clear(): Xoá hết\n",
        "\n",
        " Hàm đảo ngược: .reverse() ….Nhiều hàm Buil-in khác\n",
        "\n",
        "Tuple: là kiểu dữ liệu immutable(bất biến), nhanh hơn list, còn lại cx gần giống list, nằm trong ngoặc đơn\n",
        "\n",
        "Set: là kiểu dữ liệu mutable(có thể thay đổi), chỉ chứa duy nhất một phần tử, nằm trong ngoặc nhọn. Giữa các set có thể có các hợp(|: Kiểu như là hợp 2 set), giao(&: lấy sự giống nhau giữa 2 set), hiệu(-: lấy sự khác nhau của A đối với B), bù(^: lấy sự khác nhau giữa 2 set)\n",
        "\n",
        "o Dictionary: là kiểu lưu dữ liệu giống map trong c++. Có key và value, key và value có thể là kiểu dữ liệu như interger, float, string."
      ],
      "metadata": {
        "id": "SGOquRXvQ9rC"
      }
    },
    {
      "cell_type": "code",
      "source": [
        "a = [1, 2, 3, 4, 6]\n",
        "print(a)\n",
        "a.append(7)\n",
        "print(a)\n",
        "b = (1, 2, 3, 4, 5, 10, 11, 12)\n",
        "print(b.index(1))\n",
        "print(b)\n",
        "c = {1, 2, 3, 4, 5,}\n",
        "print(type(c))\n",
        "d = {4, 5, 6, 7, 8}\n",
        "print(c | d)\n",
        "print(c & d)\n",
        "print(c - d)\n",
        "print(c ^ d)\n",
        "e = {\n",
        "    1: 'mot',\n",
        "    2: 'hai',\n",
        "    3: 'ba'\n",
        "}\n",
        "for key, val in enumerate(e):\n",
        "  print(key, val)"
      ],
      "metadata": {
        "id": "kBzt5zZtRHUT"
      },
      "execution_count": null,
      "outputs": []
    },
    {
      "cell_type": "markdown",
      "source": [
        "# Mục mới"
      ],
      "metadata": {
        "id": "24ug2f33SmAY"
      }
    }
  ]
}